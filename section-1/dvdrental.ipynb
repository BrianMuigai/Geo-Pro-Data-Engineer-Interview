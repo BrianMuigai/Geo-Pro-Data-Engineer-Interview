{
 "cells": [
  {
   "cell_type": "markdown",
   "id": "8dce053f-789d-4da8-8c2c-057e68f59542",
   "metadata": {},
   "source": [
    "## SECTION ONE\n",
    "### DVDRENTAL\n",
    "\n",
    "preparing the environment"
   ]
  },
  {
   "cell_type": "code",
   "execution_count": null,
   "id": "be521d38-bc5a-4336-ab24-7d05a27744a2",
   "metadata": {},
   "outputs": [
    {
     "name": "stdin",
     "output_type": "stream",
     "text": [
      " ····\n"
     ]
    }
   ],
   "source": [
    "import getpass\n",
    "import os\n",
    "\n",
    "password = getpass.getpass()\n",
    "command = 'sudo -S -i -u postgres pg_restore --dbname=dvdrental --create --verbose \"/home/brian/Desktop/geopro/DATA ENGINEER INTERVIEW/dataset/SECTION ONE DATA SET/dvdrental.tar\"'\n",
    "os.system('echo %s | %s' % (password, command))"
   ]
  },
  {
   "cell_type": "markdown",
   "id": "1df3bffc-338d-4e42-bbbb-519c24fa6055",
   "metadata": {},
   "source": [
    "### Dumping sql result to json"
   ]
  },
  {
   "cell_type": "code",
   "execution_count": 67,
   "id": "ce2e53e5-74f2-42ef-acc1-c51a61f59dcc",
   "metadata": {},
   "outputs": [],
   "source": [
    "import psycopg2\n",
    "\n",
    "conn = psycopg2.connect(database=\"dvdrental\", user = \"postgres\", password = \"ABCabc123\", host = \"127.0.0.1\", port = \"5432\")"
   ]
  },
  {
   "cell_type": "code",
   "execution_count": 68,
   "id": "611df41b-24fa-4555-ab65-edba5aa895ba",
   "metadata": {},
   "outputs": [],
   "source": [
    "import pandas.io.sql as psql\n",
    "\n",
    "data = psql.read_sql('''\n",
    "select json_agg(t) from ( select concat_ws(' ', first_name, last_name) as customer_name, email, address.address as address, \n",
    "json_agg((payment.customer_id, staff_id, rental_id)) as payment from customer \n",
    "join payment on payment.customer_id = customer.customer_id \n",
    "left join address on address.address_id = customer.address_id\n",
    "group by first_name, last_name, email, address\n",
    ")t ;''', conn)"
   ]
  },
  {
   "cell_type": "code",
   "execution_count": 63,
   "id": "0ba6bc78-91b2-4b17-bdec-73e6b2009ed3",
   "metadata": {},
   "outputs": [
    {
     "data": {
      "text/plain": [
       "[{'customer_name': 'Aaron Selby',\n",
       "  'email': 'aaron.selby@sakilacustomer.org',\n",
       "  'address': '1519 Santiago de los Caballeros Loop',\n",
       "  'payment': [{'f1': 375, 'f2': 2, 'f3': 12663},\n",
       "   {'f1': 375, 'f2': 1, 'f3': 10640},\n",
       "   {'f1': 375, 'f2': 2, 'f3': 10589},\n",
       "   {'f1': 375, 'f2': 1, 'f3': 10274},\n",
       "   {'f1': 375, 'f2': 1, 'f3': 1499},\n",
       "   {'f1': 375, 'f2': 2, 'f3': 1404},\n",
       "   {'f1': 375, 'f2': 1, 'f3': 2236},\n",
       "   {'f1': 375, 'f2': 2, 'f3': 12122},\n",
       "   {'f1': 375, 'f2': 2, 'f3': 8900},\n",
       "   {'f1': 375, 'f2': 1, 'f3': 7856},\n",
       "   {'f1': 375, 'f2': 2, 'f3': 5474},\n",
       "   {'f1': 375, 'f2': 1, 'f3': 13836},\n",
       "   {'f1': 375, 'f2': 2, 'f3': 11008},\n",
       "   {'f1': 375, 'f2': 1, 'f3': 15004},\n",
       "   {'f1': 375, 'f2': 1, 'f3': 10961},\n",
       "   {'f1': 375, 'f2': 1, 'f3': 10859},\n",
       "   {'f1': 375, 'f2': 2, 'f3': 4335},\n",
       "   {'f1': 375, 'f2': 1, 'f3': 15505},\n",
       "   {'f1': 375, 'f2': 1, 'f3': 3981},\n",
       "   {'f1': 375, 'f2': 1, 'f3': 10672}]},\n",
       " {'customer_name': 'Adam Gooch',\n",
       "  'email': 'adam.gooch@sakilacustomer.org',\n",
       "  'address': '230 Urawa Drive',\n",
       "  'payment': [{'f1': 367, 'f2': 1, 'f3': 14481},\n",
       "   {'f1': 367, 'f2': 1, 'f3': 9430},\n",
       "   {'f1': 367, 'f2': 1, 'f3': 9030},\n",
       "   {'f1': 367, 'f2': 2, 'f3': 13235},\n",
       "   {'f1': 367, 'f2': 2, 'f3': 8490},\n",
       "   {'f1': 367, 'f2': 2, 'f3': 6835},\n",
       "   {'f1': 367, 'f2': 1, 'f3': 6716},\n",
       "   {'f1': 367, 'f2': 1, 'f3': 4251},\n",
       "   {'f1': 367, 'f2': 2, 'f3': 6228},\n",
       "   {'f1': 367, 'f2': 2, 'f3': 5839},\n",
       "   {'f1': 367, 'f2': 2, 'f3': 10344},\n",
       "   {'f1': 367, 'f2': 1, 'f3': 12152},\n",
       "   {'f1': 367, 'f2': 2, 'f3': 5490},\n",
       "   {'f1': 367, 'f2': 2, 'f3': 5538},\n",
       "   {'f1': 367, 'f2': 1, 'f3': 3078},\n",
       "   {'f1': 367, 'f2': 2, 'f3': 12911},\n",
       "   {'f1': 367, 'f2': 2, 'f3': 12373},\n",
       "   {'f1': 367, 'f2': 1, 'f3': 9912},\n",
       "   {'f1': 367, 'f2': 2, 'f3': 12362},\n",
       "   {'f1': 367, 'f2': 1, 'f3': 14413}]},\n",
       " {'customer_name': 'Adrian Clary',\n",
       "  'email': 'adrian.clary@sakilacustomer.org',\n",
       "  'address': '1986 Sivas Place',\n",
       "  'payment': [{'f1': 525, 'f2': 2, 'f3': 1772},\n",
       "   {'f1': 525, 'f2': 2, 'f3': 6098},\n",
       "   {'f1': 525, 'f2': 2, 'f3': 6388},\n",
       "   {'f1': 525, 'f2': 1, 'f3': 10496},\n",
       "   {'f1': 525, 'f2': 2, 'f3': 11406},\n",
       "   {'f1': 525, 'f2': 2, 'f3': 15623},\n",
       "   {'f1': 525, 'f2': 1, 'f3': 14954},\n",
       "   {'f1': 525, 'f2': 1, 'f3': 11660},\n",
       "   {'f1': 525, 'f2': 1, 'f3': 6689},\n",
       "   {'f1': 525, 'f2': 2, 'f3': 7337},\n",
       "   {'f1': 525, 'f2': 2, 'f3': 7591},\n",
       "   {'f1': 525, 'f2': 1, 'f3': 8007},\n",
       "   {'f1': 525, 'f2': 1, 'f3': 3993},\n",
       "   {'f1': 525, 'f2': 1, 'f3': 15159},\n",
       "   {'f1': 525, 'f2': 1, 'f3': 5841},\n",
       "   {'f1': 525, 'f2': 2, 'f3': 9507},\n",
       "   {'f1': 525, 'f2': 1, 'f3': 9702},\n",
       "   {'f1': 525, 'f2': 1, 'f3': 8960}]},\n",
       " {'customer_name': 'Agnes Bishop',\n",
       "  'email': 'agnes.bishop@sakilacustomer.org',\n",
       "  'address': '866 Shivapuri Manor',\n",
       "  'payment': [{'f1': 217, 'f2': 1, 'f3': 1322},\n",
       "   {'f1': 217, 'f2': 1, 'f3': 11958},\n",
       "   {'f1': 217, 'f2': 2, 'f3': 15277},\n",
       "   {'f1': 217, 'f2': 2, 'f3': 5576},\n",
       "   {'f1': 217, 'f2': 2, 'f3': 5762},\n",
       "   {'f1': 217, 'f2': 2, 'f3': 6570},\n",
       "   {'f1': 217, 'f2': 2, 'f3': 7104},\n",
       "   {'f1': 217, 'f2': 2, 'f3': 8332},\n",
       "   {'f1': 217, 'f2': 1, 'f3': 9159},\n",
       "   {'f1': 217, 'f2': 2, 'f3': 9317},\n",
       "   {'f1': 217, 'f2': 2, 'f3': 9632},\n",
       "   {'f1': 217, 'f2': 2, 'f3': 9745},\n",
       "   {'f1': 217, 'f2': 2, 'f3': 12210},\n",
       "   {'f1': 217, 'f2': 1, 'f3': 12871},\n",
       "   {'f1': 217, 'f2': 2, 'f3': 15116},\n",
       "   {'f1': 217, 'f2': 1, 'f3': 2842},\n",
       "   {'f1': 217, 'f2': 1, 'f3': 2076},\n",
       "   {'f1': 217, 'f2': 1, 'f3': 11649},\n",
       "   {'f1': 217, 'f2': 1, 'f3': 10836},\n",
       "   {'f1': 217, 'f2': 1, 'f3': 10581},\n",
       "   {'f1': 217, 'f2': 1, 'f3': 11347}]},\n",
       " {'customer_name': 'Alan Kahn',\n",
       "  'email': 'alan.kahn@sakilacustomer.org',\n",
       "  'address': '753 Ilorin Avenue',\n",
       "  'payment': [{'f1': 389, 'f2': 1, 'f3': 4443},\n",
       "   {'f1': 389, 'f2': 1, 'f3': 10949},\n",
       "   {'f1': 389, 'f2': 1, 'f3': 1763},\n",
       "   {'f1': 389, 'f2': 1, 'f3': 1946},\n",
       "   {'f1': 389, 'f2': 1, 'f3': 2552},\n",
       "   {'f1': 389, 'f2': 2, 'f3': 16011},\n",
       "   {'f1': 389, 'f2': 1, 'f3': 7896},\n",
       "   {'f1': 389, 'f2': 1, 'f3': 5249},\n",
       "   {'f1': 389, 'f2': 2, 'f3': 5626},\n",
       "   {'f1': 389, 'f2': 2, 'f3': 6104},\n",
       "   {'f1': 389, 'f2': 2, 'f3': 11348},\n",
       "   {'f1': 389, 'f2': 2, 'f3': 11441},\n",
       "   {'f1': 389, 'f2': 2, 'f3': 11944},\n",
       "   {'f1': 389, 'f2': 2, 'f3': 12069},\n",
       "   {'f1': 389, 'f2': 2, 'f3': 14493},\n",
       "   {'f1': 389, 'f2': 1, 'f3': 14578},\n",
       "   {'f1': 389, 'f2': 1, 'f3': 6600},\n",
       "   {'f1': 389, 'f2': 1, 'f3': 8338},\n",
       "   {'f1': 389, 'f2': 1, 'f3': 7029},\n",
       "   {'f1': 389, 'f2': 1, 'f3': 10217},\n",
       "   {'f1': 389, 'f2': 1, 'f3': 8887},\n",
       "   {'f1': 389, 'f2': 1, 'f3': 14777},\n",
       "   {'f1': 389, 'f2': 1, 'f3': 15462},\n",
       "   {'f1': 389, 'f2': 2, 'f3': 7977},\n",
       "   {'f1': 389, 'f2': 2, 'f3': 3527}]}]"
      ]
     },
     "execution_count": 63,
     "metadata": {},
     "output_type": "execute_result"
    }
   ],
   "source": [
    "data.json_agg[0][:5]"
   ]
  },
  {
   "cell_type": "code",
   "execution_count": 65,
   "id": "e3afdc6e-4fb8-4860-afc0-c76266025aaa",
   "metadata": {},
   "outputs": [],
   "source": [
    "import json\n",
    "\n",
    "filename = 'data.json'\n",
    "file = open(filename, 'w')\n",
    "json_string = json.dumps(data.json_agg[0])\n",
    "file.write(json_string)\n",
    "file.close()"
   ]
  },
  {
   "cell_type": "markdown",
   "id": "83bc055c-2ee4-46b9-a668-c1abf1eca324",
   "metadata": {},
   "source": [
    "### Analysing data with pandas"
   ]
  },
  {
   "cell_type": "code",
   "execution_count": 69,
   "id": "6ae5c333-a35f-49df-a147-79ed437c84eb",
   "metadata": {},
   "outputs": [
    {
     "data": {
      "text/html": [
       "<div>\n",
       "<style scoped>\n",
       "    .dataframe tbody tr th:only-of-type {\n",
       "        vertical-align: middle;\n",
       "    }\n",
       "\n",
       "    .dataframe tbody tr th {\n",
       "        vertical-align: top;\n",
       "    }\n",
       "\n",
       "    .dataframe thead th {\n",
       "        text-align: right;\n",
       "    }\n",
       "</style>\n",
       "<table border=\"1\" class=\"dataframe\">\n",
       "  <thead>\n",
       "    <tr style=\"text-align: right;\">\n",
       "      <th></th>\n",
       "      <th>first_name</th>\n",
       "      <th>country</th>\n",
       "    </tr>\n",
       "  </thead>\n",
       "  <tbody>\n",
       "    <tr>\n",
       "      <th>0</th>\n",
       "      <td>Jared</td>\n",
       "      <td>Indonesia</td>\n",
       "    </tr>\n",
       "    <tr>\n",
       "      <th>1</th>\n",
       "      <td>Mary</td>\n",
       "      <td>Japan</td>\n",
       "    </tr>\n",
       "    <tr>\n",
       "      <th>2</th>\n",
       "      <td>Patricia</td>\n",
       "      <td>United States</td>\n",
       "    </tr>\n",
       "    <tr>\n",
       "      <th>3</th>\n",
       "      <td>Linda</td>\n",
       "      <td>Greece</td>\n",
       "    </tr>\n",
       "    <tr>\n",
       "      <th>4</th>\n",
       "      <td>Barbara</td>\n",
       "      <td>Myanmar</td>\n",
       "    </tr>\n",
       "    <tr>\n",
       "      <th>...</th>\n",
       "      <td>...</td>\n",
       "      <td>...</td>\n",
       "    </tr>\n",
       "    <tr>\n",
       "      <th>594</th>\n",
       "      <td>Terrence</td>\n",
       "      <td>China</td>\n",
       "    </tr>\n",
       "    <tr>\n",
       "      <th>595</th>\n",
       "      <td>Enrique</td>\n",
       "      <td>Greece</td>\n",
       "    </tr>\n",
       "    <tr>\n",
       "      <th>596</th>\n",
       "      <td>Freddie</td>\n",
       "      <td>Peru</td>\n",
       "    </tr>\n",
       "    <tr>\n",
       "      <th>597</th>\n",
       "      <td>Wade</td>\n",
       "      <td>Switzerland</td>\n",
       "    </tr>\n",
       "    <tr>\n",
       "      <th>598</th>\n",
       "      <td>Austin</td>\n",
       "      <td>China</td>\n",
       "    </tr>\n",
       "  </tbody>\n",
       "</table>\n",
       "<p>599 rows × 2 columns</p>\n",
       "</div>"
      ],
      "text/plain": [
       "    first_name        country\n",
       "0        Jared      Indonesia\n",
       "1         Mary          Japan\n",
       "2     Patricia  United States\n",
       "3        Linda         Greece\n",
       "4      Barbara        Myanmar\n",
       "..         ...            ...\n",
       "594   Terrence          China\n",
       "595    Enrique         Greece\n",
       "596    Freddie           Peru\n",
       "597       Wade    Switzerland\n",
       "598     Austin          China\n",
       "\n",
       "[599 rows x 2 columns]"
      ]
     },
     "execution_count": 69,
     "metadata": {},
     "output_type": "execute_result"
    }
   ],
   "source": [
    "df = psql.read_sql('''\n",
    "select first_name, country.country\n",
    "from customer\n",
    "left join address on address.address_id = customer.address_id\n",
    "left join city on city.city_id = address.city_id\n",
    "left join country on country.country_id = city.country_id;\n",
    "''', conn)\n",
    "\n",
    "df\n"
   ]
  },
  {
   "cell_type": "code",
   "execution_count": 76,
   "id": "e7206729-efb7-4c71-87c9-5d411ce8a044",
   "metadata": {},
   "outputs": [],
   "source": [
    "egypt = df[df['country'] == 'Egypt']\n",
    "kuwait = df[df['country'] == 'Kuwait']\n",
    "india = df[df['country'] == 'India']\n"
   ]
  },
  {
   "cell_type": "code",
   "execution_count": 83,
   "id": "b8aa817b-8883-482f-88da-fd286c36d047",
   "metadata": {},
   "outputs": [
    {
     "data": {
      "text/html": [
       "<div>\n",
       "<style scoped>\n",
       "    .dataframe tbody tr th:only-of-type {\n",
       "        vertical-align: middle;\n",
       "    }\n",
       "\n",
       "    .dataframe tbody tr th {\n",
       "        vertical-align: top;\n",
       "    }\n",
       "\n",
       "    .dataframe thead th {\n",
       "        text-align: right;\n",
       "    }\n",
       "</style>\n",
       "<table border=\"1\" class=\"dataframe\">\n",
       "  <thead>\n",
       "    <tr style=\"text-align: right;\">\n",
       "      <th></th>\n",
       "      <th>first_name</th>\n",
       "      <th>country</th>\n",
       "    </tr>\n",
       "  </thead>\n",
       "  <tbody>\n",
       "    <tr>\n",
       "      <th>119</th>\n",
       "      <td>Sherry</td>\n",
       "      <td>Egypt</td>\n",
       "    </tr>\n",
       "    <tr>\n",
       "      <th>134</th>\n",
       "      <td>Emma</td>\n",
       "      <td>Egypt</td>\n",
       "    </tr>\n",
       "    <tr>\n",
       "      <th>233</th>\n",
       "      <td>Lillie</td>\n",
       "      <td>Egypt</td>\n",
       "    </tr>\n",
       "    <tr>\n",
       "      <th>423</th>\n",
       "      <td>Alfred</td>\n",
       "      <td>Egypt</td>\n",
       "    </tr>\n",
       "    <tr>\n",
       "      <th>491</th>\n",
       "      <td>Rick</td>\n",
       "      <td>Egypt</td>\n",
       "    </tr>\n",
       "  </tbody>\n",
       "</table>\n",
       "</div>"
      ],
      "text/plain": [
       "    first_name country\n",
       "119     Sherry   Egypt\n",
       "134       Emma   Egypt\n",
       "233     Lillie   Egypt\n",
       "423     Alfred   Egypt\n",
       "491       Rick   Egypt"
      ]
     },
     "execution_count": 83,
     "metadata": {},
     "output_type": "execute_result"
    }
   ],
   "source": [
    "egypt.head()"
   ]
  },
  {
   "cell_type": "code",
   "execution_count": 78,
   "id": "a5a3adc3-a03e-4ae3-a000-712bea2784f0",
   "metadata": {},
   "outputs": [
    {
     "data": {
      "text/html": [
       "<div>\n",
       "<style scoped>\n",
       "    .dataframe tbody tr th:only-of-type {\n",
       "        vertical-align: middle;\n",
       "    }\n",
       "\n",
       "    .dataframe tbody tr th {\n",
       "        vertical-align: top;\n",
       "    }\n",
       "\n",
       "    .dataframe thead th {\n",
       "        text-align: right;\n",
       "    }\n",
       "</style>\n",
       "<table border=\"1\" class=\"dataframe\">\n",
       "  <thead>\n",
       "    <tr style=\"text-align: right;\">\n",
       "      <th></th>\n",
       "      <th>first_name</th>\n",
       "      <th>country</th>\n",
       "    </tr>\n",
       "  </thead>\n",
       "  <tbody>\n",
       "    <tr>\n",
       "      <th>234</th>\n",
       "      <td>Claudia</td>\n",
       "      <td>Kuwait</td>\n",
       "    </tr>\n",
       "  </tbody>\n",
       "</table>\n",
       "</div>"
      ],
      "text/plain": [
       "    first_name country\n",
       "234    Claudia  Kuwait"
      ]
     },
     "execution_count": 78,
     "metadata": {},
     "output_type": "execute_result"
    }
   ],
   "source": [
    "kuwait"
   ]
  },
  {
   "cell_type": "code",
   "execution_count": 82,
   "id": "54cbec83-6210-43e4-8102-7b63a3e0c480",
   "metadata": {},
   "outputs": [
    {
     "data": {
      "text/html": [
       "<div>\n",
       "<style scoped>\n",
       "    .dataframe tbody tr th:only-of-type {\n",
       "        vertical-align: middle;\n",
       "    }\n",
       "\n",
       "    .dataframe tbody tr th {\n",
       "        vertical-align: top;\n",
       "    }\n",
       "\n",
       "    .dataframe thead th {\n",
       "        text-align: right;\n",
       "    }\n",
       "</style>\n",
       "<table border=\"1\" class=\"dataframe\">\n",
       "  <thead>\n",
       "    <tr style=\"text-align: right;\">\n",
       "      <th></th>\n",
       "      <th>first_name</th>\n",
       "      <th>country</th>\n",
       "    </tr>\n",
       "  </thead>\n",
       "  <tbody>\n",
       "    <tr>\n",
       "      <th>12</th>\n",
       "      <td>Nancy</td>\n",
       "      <td>India</td>\n",
       "    </tr>\n",
       "    <tr>\n",
       "      <th>15</th>\n",
       "      <td>Helen</td>\n",
       "      <td>India</td>\n",
       "    </tr>\n",
       "    <tr>\n",
       "      <th>28</th>\n",
       "      <td>Cynthia</td>\n",
       "      <td>India</td>\n",
       "    </tr>\n",
       "    <tr>\n",
       "      <th>31</th>\n",
       "      <td>Brenda</td>\n",
       "      <td>India</td>\n",
       "    </tr>\n",
       "    <tr>\n",
       "      <th>32</th>\n",
       "      <td>Amy</td>\n",
       "      <td>India</td>\n",
       "    </tr>\n",
       "  </tbody>\n",
       "</table>\n",
       "</div>"
      ],
      "text/plain": [
       "   first_name country\n",
       "12      Nancy   India\n",
       "15      Helen   India\n",
       "28    Cynthia   India\n",
       "31     Brenda   India\n",
       "32        Amy   India"
      ]
     },
     "execution_count": 82,
     "metadata": {},
     "output_type": "execute_result"
    }
   ],
   "source": [
    "india.head()"
   ]
  },
  {
   "cell_type": "code",
   "execution_count": 81,
   "id": "0619f48f-874f-4469-a4fa-a06c1d326f48",
   "metadata": {},
   "outputs": [
    {
     "name": "stdout",
     "output_type": "stream",
     "text": [
      "6 Customers in Egypt, 1 customers in Kuwait and 60 customers in India\n"
     ]
    }
   ],
   "source": [
    "print('{} Customers in Egypt, {} customers in Kuwait and {} customers in India'.format(egypt.shape[0], kuwait.shape[0], india.shape[0]))"
   ]
  },
  {
   "cell_type": "code",
   "execution_count": null,
   "id": "64ed0bd2-3d82-490f-8fd0-21b68c054f7b",
   "metadata": {},
   "outputs": [],
   "source": []
  }
 ],
 "metadata": {
  "kernelspec": {
   "display_name": "Python 3",
   "language": "python",
   "name": "python3"
  },
  "language_info": {
   "codemirror_mode": {
    "name": "ipython",
    "version": 3
   },
   "file_extension": ".py",
   "mimetype": "text/x-python",
   "name": "python",
   "nbconvert_exporter": "python",
   "pygments_lexer": "ipython3",
   "version": "3.9.2"
  }
 },
 "nbformat": 4,
 "nbformat_minor": 5
}

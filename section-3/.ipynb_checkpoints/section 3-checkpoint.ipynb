{
 "cells": [
  {
   "cell_type": "markdown",
   "id": "43717bc0-4ac1-4318-a21d-89ff8f5a8c0b",
   "metadata": {},
   "source": [
    "## Section 3\n",
    "#### Converting Dictionary to CSV"
   ]
  },
  {
   "cell_type": "code",
   "execution_count": 1,
   "id": "d7e7d093-6396-435c-b98e-008eb645a749",
   "metadata": {},
   "outputs": [
    {
     "ename": "SyntaxError",
     "evalue": "unexpected EOF while parsing (<ipython-input-1-a954b20ff4fb>, line 37)",
     "output_type": "error",
     "traceback": [
      "\u001b[0;36m  File \u001b[0;32m\"<ipython-input-1-a954b20ff4fb>\"\u001b[0;36m, line \u001b[0;32m37\u001b[0m\n\u001b[0;31m    }\u001b[0m\n\u001b[0m     ^\u001b[0m\n\u001b[0;31mSyntaxError\u001b[0m\u001b[0;31m:\u001b[0m unexpected EOF while parsing\n"
     ]
    }
   ],
   "source": [
    "data = {\n",
    "    \"successful\": [\n",
    "        \"30000922\",\n",
    "        \"30000910\"\n",
    "        ],\n",
    "    \"id_undetermined\": [\n",
    "        \"30000911\",\n",
    "        \"30000913\"\n",
    "        ],\n",
    "    \"unsuccessful\": [\n",
    "        {\n",
    "            \"id_number\": \"30000921\",\n",
    "            \"errors\": {\n",
    "                \"fee_status\": [\n",
    "                    \"\\\"KNOWN\\\" is not a valid choice.\"\n",
    "                ]\n",
    "            }\n",
    "        },\n",
    "        {\n",
    "        \"id_number\": \"29000921\",\n",
    "        \"errors\": {\n",
    "            \"fee_status\": [\n",
    "                \"\\\"KNOWN\\\" is not a valid choice.\"\n",
    "                ],\n",
    "            \"fee_receipt\": {\n",
    "                \"0\": {\n",
    "                \"registration_section\": {\n",
    "                \"9\": {\n",
    "                \"sectionNo\": [\n",
    "                \"This field may not be null.\"\n",
    "                ]\n",
    "            }\n",
    "        }\n",
    "        }\n",
    "    }\n",
    "    }\n",
    "}\n"
   ]
  },
  {
   "cell_type": "code",
   "execution_count": null,
   "id": "780a9018-ff2d-47b7-b6ca-bc71068a1d1c",
   "metadata": {},
   "outputs": [],
   "source": []
  }
 ],
 "metadata": {
  "kernelspec": {
   "display_name": "Python 3",
   "language": "python",
   "name": "python3"
  },
  "language_info": {
   "codemirror_mode": {
    "name": "ipython",
    "version": 3
   },
   "file_extension": ".py",
   "mimetype": "text/x-python",
   "name": "python",
   "nbconvert_exporter": "python",
   "pygments_lexer": "ipython3",
   "version": "3.9.2"
  }
 },
 "nbformat": 4,
 "nbformat_minor": 5
}

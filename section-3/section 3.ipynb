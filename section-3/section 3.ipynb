{
 "cells": [
  {
   "cell_type": "markdown",
   "id": "43717bc0-4ac1-4318-a21d-89ff8f5a8c0b",
   "metadata": {},
   "source": [
    "## Section 3\n",
    "#### Converting Dictionary to CSV"
   ]
  },
  {
   "cell_type": "code",
   "execution_count": null,
   "id": "ed3e77fd-4931-48d7-a1c1-debead10eacd",
   "metadata": {},
   "outputs": [],
   "source": [
    "data = {\n",
    "    \"successful\": [\n",
    "        \"30000922\",\n",
    "        \"30000910\"\n",
    "        ],\n",
    "    \"id_undetermined\": [\n",
    "        \"30000911\",\n",
    "        \"30000913\"\n",
    "        ],\n",
    "    \"unsuccessful\": [\n",
    "            {\n",
    "                \"id_number\": \"30000921\",\n",
    "                \"errors\": {\n",
    "                    \"fee_status\": [\n",
    "                        \"\\\"KNOWN\\\" is not a valid choice.\"\n",
    "                    ]\n",
    "                }\n",
    "            },\n",
    "            {\n",
    "                \"id_number\": \"29000921\",\n",
    "                \"errors\": {\n",
    "                    \"fee_status\": [\n",
    "                        \"\\\"KNOWN\\\" is not a valid choice.\"\n",
    "                        ],\n",
    "                    \"fee_receipt\": {\n",
    "                        \"0\": {\n",
    "                            \"registration_section\": {\n",
    "                                \"9\": {\n",
    "                                    \"sectionNo\": [\n",
    "                                        \"This field may not be null.\"\n",
    "                                    ]\n",
    "                                }\n",
    "                            }\n",
    "                        }\n",
    "                    }\n",
    "                }\n",
    "            }\n",
    "    ]\n",
    "}\n",
    "            \n",
    "\n",
    "        \n"
   ]
  },
  {
   "cell_type": "markdown",
   "id": "12918d5c-6004-46fc-9688-67aea7ddb1c2",
   "metadata": {},
   "source": [
    "Structuring the dict as Dataframe"
   ]
  },
  {
   "cell_type": "code",
   "execution_count": 10,
   "id": "780a9018-ff2d-47b7-b6ca-bc71068a1d1c",
   "metadata": {},
   "outputs": [
    {
     "data": {
      "text/html": [
       "<div>\n",
       "<style scoped>\n",
       "    .dataframe tbody tr th:only-of-type {\n",
       "        vertical-align: middle;\n",
       "    }\n",
       "\n",
       "    .dataframe tbody tr th {\n",
       "        vertical-align: top;\n",
       "    }\n",
       "\n",
       "    .dataframe thead th {\n",
       "        text-align: right;\n",
       "    }\n",
       "</style>\n",
       "<table border=\"1\" class=\"dataframe\">\n",
       "  <thead>\n",
       "    <tr style=\"text-align: right;\">\n",
       "      <th></th>\n",
       "      <th>successful</th>\n",
       "      <th>id_undetermined</th>\n",
       "      <th>unsuccessful</th>\n",
       "    </tr>\n",
       "  </thead>\n",
       "  <tbody>\n",
       "    <tr>\n",
       "      <th>0</th>\n",
       "      <td>30000922</td>\n",
       "      <td>30000911</td>\n",
       "      <td>{'id_number': '30000921', 'errors': {'fee_stat...</td>\n",
       "    </tr>\n",
       "    <tr>\n",
       "      <th>1</th>\n",
       "      <td>30000910</td>\n",
       "      <td>30000913</td>\n",
       "      <td>{'id_number': '29000921', 'errors': {'fee_stat...</td>\n",
       "    </tr>\n",
       "  </tbody>\n",
       "</table>\n",
       "</div>"
      ],
      "text/plain": [
       "  successful id_undetermined  \\\n",
       "0   30000922        30000911   \n",
       "1   30000910        30000913   \n",
       "\n",
       "                                        unsuccessful  \n",
       "0  {'id_number': '30000921', 'errors': {'fee_stat...  \n",
       "1  {'id_number': '29000921', 'errors': {'fee_stat...  "
      ]
     },
     "execution_count": 10,
     "metadata": {},
     "output_type": "execute_result"
    }
   ],
   "source": [
    "import pandas as pd\n",
    "df = pd.DataFrame.from_dict(data)\n",
    "df"
   ]
  },
  {
   "cell_type": "markdown",
   "id": "aed9917c-9399-4e12-a30c-387a1fe45c79",
   "metadata": {},
   "source": [
    "converting Dataframe to csv"
   ]
  },
  {
   "cell_type": "code",
   "execution_count": 9,
   "id": "e0e93c10-2ae6-42bc-99bb-fcb2332a9686",
   "metadata": {},
   "outputs": [],
   "source": [
    "df.to_csv('Section_3_dict.csv', index=False)\n"
   ]
  },
  {
   "cell_type": "code",
   "execution_count": null,
   "id": "d1b045f6-f347-43f8-975b-ad37eb15f444",
   "metadata": {},
   "outputs": [],
   "source": []
  }
 ],
 "metadata": {
  "kernelspec": {
   "display_name": "Python 3",
   "language": "python",
   "name": "python3"
  },
  "language_info": {
   "codemirror_mode": {
    "name": "ipython",
    "version": 3
   },
   "file_extension": ".py",
   "mimetype": "text/x-python",
   "name": "python",
   "nbconvert_exporter": "python",
   "pygments_lexer": "ipython3",
   "version": "3.9.2"
  }
 },
 "nbformat": 4,
 "nbformat_minor": 5
}
